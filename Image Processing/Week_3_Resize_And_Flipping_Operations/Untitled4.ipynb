{
 "cells": [
  {
   "cell_type": "code",
   "execution_count": 3,
   "id": "96c3bc49-62aa-49bd-a964-c90666bb95e4",
   "metadata": {},
   "outputs": [],
   "source": [
    "import cv2\n",
    "import numpy as np"
   ]
  },
  {
   "cell_type": "code",
   "execution_count": 11,
   "id": "bfbb4818-361c-4b64-8060-381663de6824",
   "metadata": {},
   "outputs": [
    {
     "name": "stdout",
     "output_type": "stream",
     "text": [
      "(1600, 1200, 3)\n"
     ]
    }
   ],
   "source": [
    "my_img=cv2.imread(\"./new.jpg\",1)\n",
    "print(my_img.shape)"
   ]
  },
  {
   "cell_type": "code",
   "execution_count": 12,
   "id": "7b4eb754-0473-4d6b-97aa-3e820b65e866",
   "metadata": {},
   "outputs": [
    {
     "data": {
      "text/plain": [
       "<function destroyAllWindows>"
      ]
     },
     "execution_count": 12,
     "metadata": {},
     "output_type": "execute_result"
    }
   ],
   "source": [
    "cv2.imshow(\"RGB Image\",my_img)\n",
    "cv2.waitKey(0)\n",
    "cv2.destroyAllWindows"
   ]
  },
  {
   "cell_type": "code",
   "execution_count": 7,
   "id": "48e49e7b-beb9-4482-b20a-0da5c60c67ae",
   "metadata": {},
   "outputs": [],
   "source": [
    "#CV2 Fonksiyonu 2 parametre alır\n",
    "#Yeksenine göre vertical \n",
    "#X eksenine göre horizontal\n",
    "#Her ikisi both\n",
    "img_vertical=cv2.flip(my_img,0)\n",
    "img_horizontal=cv2.flip(my_img,1)\n",
    "img_both=cv2.flip(my_img,-1)"
   ]
  },
  {
   "cell_type": "code",
   "execution_count": 8,
   "id": "d53de775-bfcd-40b9-8c39-3156cd792aa4",
   "metadata": {},
   "outputs": [
    {
     "data": {
      "text/plain": [
       "<function destroyAllWindows>"
      ]
     },
     "execution_count": 8,
     "metadata": {},
     "output_type": "execute_result"
    }
   ],
   "source": [
    "cv2.imshow(\"Original Image\",my_img)\n",
    "cv2.imshow(\"Vertical Image\",img_vertical)\n",
    "cv2.imshow(\"Horizontal Image\",img_horizontal)\n",
    "cv2.imshow(\"Vertical And Horizontal Image\",img_both)\n",
    "cv2.waitKey(0)\n",
    "cv2.destroyAllWindows"
   ]
  },
  {
   "cell_type": "code",
   "execution_count": 9,
   "id": "d42b8695-e6a9-433d-8f2d-b68e84e3896b",
   "metadata": {},
   "outputs": [
    {
     "data": {
      "text/plain": [
       "<function destroyAllWindows>"
      ]
     },
     "execution_count": 9,
     "metadata": {},
     "output_type": "execute_result"
    }
   ],
   "source": [
    "vertical_with_code=my_img[::-1,:,:,]\n",
    "cv2.imshow(\"VertMy\",vertical_with_code)\n",
    "cv2.imshow(\"Vertical Image\",img_vertical)\n",
    "cv2.waitKey(0)\n",
    "cv2.destroyAllWindows"
   ]
  },
  {
   "cell_type": "code",
   "execution_count": 16,
   "id": "f521cf66-2ad7-4cd9-82bb-2d72f215d746",
   "metadata": {},
   "outputs": [
    {
     "data": {
      "text/plain": [
       "<function destroyAllWindows>"
      ]
     },
     "execution_count": 16,
     "metadata": {},
     "output_type": "execute_result"
    }
   ],
   "source": [
    "vertical_with_code=my_img[::-1,:,:,]\n",
    "cv2.imshow(\"HorMy\",vertical_with_code)\n",
    "cv2.imshow(\"Horizontal Image\",img_horizontal)\n",
    "cv2.waitKey(0)\n",
    "cv2.destroyAllWindows"
   ]
  },
  {
   "cell_type": "code",
   "execution_count": 10,
   "id": "b249ec9e-4653-4252-8399-216dbb688743",
   "metadata": {},
   "outputs": [
    {
     "data": {
      "text/plain": [
       "<function destroyAllWindows>"
      ]
     },
     "execution_count": 10,
     "metadata": {},
     "output_type": "execute_result"
    }
   ],
   "source": [
    "vertical_with_code=my_img[::-1,::-1,:,]\n",
    "cv2.imshow(\"BothMy\",vertical_with_code)\n",
    "cv2.imshow(\"Vertical And Horizontal Image\",img_both)\n",
    "cv2.waitKey(0)\n",
    "cv2.destroyAllWindows"
   ]
  },
  {
   "cell_type": "code",
   "execution_count": 19,
   "id": "ce489272-6fdc-4864-bf5e-cb7a33c2c945",
   "metadata": {},
   "outputs": [
    {
     "name": "stdout",
     "output_type": "stream",
     "text": [
      "(189, 200, 3)\n",
      "Görüntü Yükseklik =189\n",
      "Görüntü Genişlik =200\n",
      "Görüntü Kanal Sayısı =3\n"
     ]
    }
   ],
   "source": [
    "print(my_img.shape)\n",
    "print(f\"Görüntü Yükseklik ={my_img.shape[0]}\")\n",
    "print(f\"Görüntü Genişlik ={my_img.shape[1]}\")\n",
    "print(f\"Görüntü Kanal Sayısı ={my_img.shape[2]}\")"
   ]
  },
  {
   "cell_type": "code",
   "execution_count": 14,
   "id": "7b445cbf-a209-47fb-a1d0-f363b609ce1f",
   "metadata": {},
   "outputs": [
    {
     "data": {
      "text/plain": [
       "<function destroyAllWindows>"
      ]
     },
     "execution_count": 14,
     "metadata": {},
     "output_type": "execute_result"
    }
   ],
   "source": [
    "resized_img=cv2.resize(my_img,(1920,1080),cv2.INTER_LANCZOS4)\n",
    "cv2.imshow(\"Orıgınal Image\",my_img)\n",
    "cv2.imshow(\"Resize Image\",resized_img)\n",
    "cv2.waitKey(0)\n",
    "cv2.destroyAllWindows"
   ]
  },
  {
   "cell_type": "code",
   "execution_count": null,
   "id": "c825d7eb-b69b-4afd-a9eb-3987cb6dc944",
   "metadata": {},
   "outputs": [],
   "source": []
  }
 ],
 "metadata": {
  "kernelspec": {
   "display_name": "Hak3",
   "language": "python",
   "name": "hak3"
  },
  "language_info": {
   "codemirror_mode": {
    "name": "ipython",
    "version": 3
   },
   "file_extension": ".py",
   "mimetype": "text/x-python",
   "name": "python",
   "nbconvert_exporter": "python",
   "pygments_lexer": "ipython3",
   "version": "3.10.10"
  }
 },
 "nbformat": 4,
 "nbformat_minor": 5
}
